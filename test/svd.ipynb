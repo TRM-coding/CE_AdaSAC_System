{
 "cells": [
  {
   "cell_type": "code",
   "execution_count": null,
   "metadata": {},
   "outputs": [],
   "source": [
    "import torch\n",
    "mlp = torch.load('./model_full.pth')\n",
    "for layer in mlp.layers:\n",
    "    if (isinstance(layer, torch.nn.Linear)):\n",
    "        w=layer.weight\n",
    "        b=layer.bias\n",
    "        U,S,V=torch.linalg.svd(w)\n",
    "        nU=U.shape[0]\n",
    "        mU=U.shape[1]\n",
    "        nS=S.shape[0]\n",
    "        mS=S.shape[1]\n",
    "        nV=V.shape[0]\n",
    "        mV=V.shape[1]\n",
    "        newlinear1=torch.nn.Linear(nU,mU)\n",
    "        newlinear2=torch.nn.Linear(nS,mS)\n",
    "        newlinear3=torch.nn.Linear(nV,mV)\n",
    "        newlinear1.weight=U\n",
    "        newlinear2.weight=S\n",
    "        newlinear3.weight=V\n",
    "\n"
   ]
  }
 ],
 "metadata": {
  "kernelspec": {
   "display_name": "pytorch",
   "language": "python",
   "name": "python3"
  },
  "language_info": {
   "name": "python",
   "version": "3.10.15"
  }
 },
 "nbformat": 4,
 "nbformat_minor": 2
}
