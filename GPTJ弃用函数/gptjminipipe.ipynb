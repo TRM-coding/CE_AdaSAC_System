{
 "cells": [
  {
   "cell_type": "code",
   "execution_count": 1,
   "id": "370f00da",
   "metadata": {},
   "outputs": [
    {
     "name": "stderr",
     "output_type": "stream",
     "text": [
      "2025-07-16 15:41:31,109 - modelscope - WARNING - Model revision not specified, use revision: v1.0.1\n"
     ]
    },
    {
     "name": "stdout",
     "output_type": "stream",
     "text": [
      "Downloading Model from https://www.modelscope.cn to directory: ./gpt-j-6b/AI-ModelScope/gpt-j-6b\n"
     ]
    },
    {
     "name": "stderr",
     "output_type": "stream",
     "text": [
      "Some weights of the model checkpoint at ./gpt-j-6b/AI-ModelScope/gpt-j-6b were not used when initializing GPTJForCausalLM: ['transformer.h.0.attn.bias', 'transformer.h.0.attn.masked_bias', 'transformer.h.1.attn.bias', 'transformer.h.1.attn.masked_bias', 'transformer.h.10.attn.bias', 'transformer.h.10.attn.masked_bias', 'transformer.h.11.attn.bias', 'transformer.h.11.attn.masked_bias', 'transformer.h.12.attn.bias', 'transformer.h.12.attn.masked_bias', 'transformer.h.13.attn.bias', 'transformer.h.13.attn.masked_bias', 'transformer.h.14.attn.bias', 'transformer.h.14.attn.masked_bias', 'transformer.h.15.attn.bias', 'transformer.h.15.attn.masked_bias', 'transformer.h.16.attn.bias', 'transformer.h.16.attn.masked_bias', 'transformer.h.17.attn.bias', 'transformer.h.17.attn.masked_bias', 'transformer.h.18.attn.bias', 'transformer.h.18.attn.masked_bias', 'transformer.h.19.attn.bias', 'transformer.h.19.attn.masked_bias', 'transformer.h.2.attn.bias', 'transformer.h.2.attn.masked_bias', 'transformer.h.20.attn.bias', 'transformer.h.20.attn.masked_bias', 'transformer.h.21.attn.bias', 'transformer.h.21.attn.masked_bias', 'transformer.h.22.attn.bias', 'transformer.h.22.attn.masked_bias', 'transformer.h.23.attn.bias', 'transformer.h.23.attn.masked_bias', 'transformer.h.24.attn.bias', 'transformer.h.24.attn.masked_bias', 'transformer.h.25.attn.bias', 'transformer.h.25.attn.masked_bias', 'transformer.h.26.attn.bias', 'transformer.h.26.attn.masked_bias', 'transformer.h.27.attn.bias', 'transformer.h.27.attn.masked_bias', 'transformer.h.3.attn.bias', 'transformer.h.3.attn.masked_bias', 'transformer.h.4.attn.bias', 'transformer.h.4.attn.masked_bias', 'transformer.h.5.attn.bias', 'transformer.h.5.attn.masked_bias', 'transformer.h.6.attn.bias', 'transformer.h.6.attn.masked_bias', 'transformer.h.7.attn.bias', 'transformer.h.7.attn.masked_bias', 'transformer.h.8.attn.bias', 'transformer.h.8.attn.masked_bias', 'transformer.h.9.attn.bias', 'transformer.h.9.attn.masked_bias']\n",
      "- This IS expected if you are initializing GPTJForCausalLM from the checkpoint of a model trained on another task or with another architecture (e.g. initializing a BertForSequenceClassification model from a BertForPreTraining model).\n",
      "- This IS NOT expected if you are initializing GPTJForCausalLM from the checkpoint of a model that you expect to be exactly identical (initializing a BertForSequenceClassification model from a BertForSequenceClassification model).\n"
     ]
    }
   ],
   "source": [
    "from transformers import AutoModelForCausalLM,AutoTokenizer\n",
    "from  datasets import load_dataset\n",
    "from transformers import DataCollatorForLanguageModeling\n",
    "from torch.utils.data import DataLoader\n",
    "from modelscope.utils.hub import snapshot_download\n",
    "import torch\n",
    "\n",
    "model_path = snapshot_download(\n",
    "            repo_id='AI-ModelScope/gpt-j-6b',\n",
    "            cache_dir='./gpt-j-6b'\n",
    "        )\n",
    "\n",
    "model = AutoModelForCausalLM.from_pretrained(\n",
    "                model_path,\n",
    "                torch_dtype=torch.float32,\n",
    "                trust_remote_code=True,\n",
    "                weights_only=False\n",
    ")\n",
    "\n",
    "tokenizer = AutoTokenizer.from_pretrained(\n",
    "            model_path,\n",
    "            local_files_only=True,\n",
    "            trust_remote_code=True\n",
    ")\n",
    "if tokenizer.pad_token is None:\n",
    "    tokenizer.pad_token = tokenizer.eos_token\n",
    "from torch import nn\n",
    "\n",
    "\n",
    "\n",
    "torch.cuda.empty_cache()\n",
    "torch.cuda.synchronize()\n"
   ]
  },
  {
   "cell_type": "code",
   "execution_count": 2,
   "id": "21308b29",
   "metadata": {},
   "outputs": [
    {
     "name": "stderr",
     "output_type": "stream",
     "text": [
      "Using the latest cached version of the dataset since JeanKaddour/minipile couldn't be found on the Hugging Face Hub\n",
      "Found the latest cached dataset configuration 'default' at minipile_cache/JeanKaddour___minipile/default/0.0.0/18ad1b0c701eaa0de03d3cecfdd769cbc70ffbd0 (last modified on Tue Jul 15 14:28:44 2025).\n"
     ]
    }
   ],
   "source": [
    "def load_and_tokenize_dataset(cache_dir: str, tokenizer, batch_size: int = 1):\n",
    "\n",
    "    ds = load_dataset(\"JeanKaddour/minipile\", split=\"validation\", cache_dir=cache_dir)\n",
    "\n",
    "    # Tokenize dataset\n",
    "    def tokenize_fn(examples):\n",
    "        return tokenizer(examples['text'], padding=True, truncation=True, max_length=512)\n",
    "    \n",
    "    tokenized = ds.map(tokenize_fn, batched=True, remove_columns=[\"text\"])\n",
    "\n",
    "    # Group the dataset into blocks of model_max_length\n",
    "    block_size = tokenizer.model_max_length\n",
    "    def group_texts(examples):\n",
    "        all_ids = sum(examples[\"input_ids\"], [])\n",
    "        total_len = (len(all_ids) // block_size) * block_size\n",
    "        blocks = [all_ids[i:i + block_size] for i in range(0, total_len, block_size)]\n",
    "        return {\"input_ids\": blocks}\n",
    "\n",
    "    lm_dataset = tokenized.map(group_texts, batched=True, remove_columns=[\"attention_mask\"])\n",
    "\n",
    "    # DataLoader setup\n",
    "    data_collator = DataCollatorForLanguageModeling(tokenizer=tokenizer, mlm=False)\n",
    "    dataloader = DataLoader(lm_dataset, batch_size=batch_size, collate_fn=data_collator)\n",
    "\n",
    "    return dataloader\n",
    "\n",
    "\n",
    "dataloader=load_and_tokenize_dataset(\"./minipile_cache\",tokenizer,1)"
   ]
  },
  {
   "cell_type": "code",
   "execution_count": 3,
   "id": "91e9ae14",
   "metadata": {},
   "outputs": [
    {
     "name": "stdout",
     "output_type": "stream",
     "text": [
      "'s the country\n"
     ]
    }
   ],
   "source": [
    "# model.to('cpu')\n",
    "\n",
    "prompt='China is a'\n",
    "inputs = tokenizer(prompt, return_tensors='pt')\n",
    "model=model.to('cuda:0')\n",
    "output=model(input_ids=inputs['input_ids'].to('cuda:0'))\n",
    "logits=output.logits\n",
    "predicted_ids = torch.argmax(logits, dim=-1)\n",
    "predicted_tokens = tokenizer.convert_ids_to_tokens(predicted_ids[0])  # 获取第一批次的词索引并转换为词\n",
    "\n",
    "# 3. 输出生成的文本\n",
    "generated_text = tokenizer.decode(predicted_ids[0], skip_special_tokens=True)\n",
    "\n",
    "print(generated_text)\n",
    "torch.cuda.empty_cache()\n",
    "torch.cuda.synchronize()\n",
    "\n"
   ]
  },
  {
   "cell_type": "code",
   "execution_count": 4,
   "id": "8b972246",
   "metadata": {},
   "outputs": [
    {
     "name": "stdout",
     "output_type": "stream",
     "text": [
      "50256\n"
     ]
    }
   ],
   "source": [
    "print(tokenizer.pad_token_id)\n",
    "criterion = nn.CrossEntropyLoss(ignore_index=-100,reduction='mean')"
   ]
  },
  {
   "cell_type": "code",
   "execution_count": 6,
   "id": "fefbe477",
   "metadata": {},
   "outputs": [
    {
     "name": "stderr",
     "output_type": "stream",
     "text": [
      "Evaluating:   0%|          | 0/125 [00:00<?, ?it/s]"
     ]
    },
    {
     "name": "stderr",
     "output_type": "stream",
     "text": [
      "Evaluating:   0%|          | 0/125 [01:41<?, ?it/s]\n"
     ]
    },
    {
     "ename": "KeyboardInterrupt",
     "evalue": "",
     "output_type": "error",
     "traceback": [
      "\u001b[31m---------------------------------------------------------------------------\u001b[39m",
      "\u001b[31mKeyboardInterrupt\u001b[39m                         Traceback (most recent call last)",
      "\u001b[36mCell\u001b[39m\u001b[36m \u001b[39m\u001b[32mIn[6]\u001b[39m\u001b[32m, line 30\u001b[39m\n\u001b[32m     25\u001b[39m \u001b[38;5;66;03m# 计算交叉熵 loss，ignore_index=-100 会跳过所有 pad 位置\u001b[39;00m\n\u001b[32m     26\u001b[39m loss = criterion(\n\u001b[32m     27\u001b[39m     shift_logits.view(-\u001b[32m1\u001b[39m, shift_logits.size(-\u001b[32m1\u001b[39m)),  \u001b[38;5;66;03m# [(B*(T-1)), V]\u001b[39;00m\n\u001b[32m     28\u001b[39m     shift_labels.view(-\u001b[32m1\u001b[39m)                          \u001b[38;5;66;03m# [(B*(T-1))]\u001b[39;00m\n\u001b[32m     29\u001b[39m )\n\u001b[32m---> \u001b[39m\u001b[32m30\u001b[39m \u001b[38;5;28mprint\u001b[39m(loss.item)\n\u001b[32m     31\u001b[39m total_loss   += loss.item()\n\u001b[32m     32\u001b[39m total_batches+= \u001b[32m1\u001b[39m\n",
      "\u001b[36mCell\u001b[39m\u001b[36m \u001b[39m\u001b[32mIn[6]\u001b[39m\u001b[32m, line 30\u001b[39m\n\u001b[32m     25\u001b[39m \u001b[38;5;66;03m# 计算交叉熵 loss，ignore_index=-100 会跳过所有 pad 位置\u001b[39;00m\n\u001b[32m     26\u001b[39m loss = criterion(\n\u001b[32m     27\u001b[39m     shift_logits.view(-\u001b[32m1\u001b[39m, shift_logits.size(-\u001b[32m1\u001b[39m)),  \u001b[38;5;66;03m# [(B*(T-1)), V]\u001b[39;00m\n\u001b[32m     28\u001b[39m     shift_labels.view(-\u001b[32m1\u001b[39m)                          \u001b[38;5;66;03m# [(B*(T-1))]\u001b[39;00m\n\u001b[32m     29\u001b[39m )\n\u001b[32m---> \u001b[39m\u001b[32m30\u001b[39m \u001b[38;5;28mprint\u001b[39m(loss.item)\n\u001b[32m     31\u001b[39m total_loss   += loss.item()\n\u001b[32m     32\u001b[39m total_batches+= \u001b[32m1\u001b[39m\n",
      "\u001b[36mFile \u001b[39m\u001b[32m_pydevd_bundle\\\\pydevd_cython.pyx:1697\u001b[39m, in \u001b[36m_pydevd_bundle.pydevd_cython.SafeCallWrapper.__call__\u001b[39m\u001b[34m()\u001b[39m\n",
      "\u001b[36mFile \u001b[39m\u001b[32m_pydevd_bundle\\\\pydevd_cython.pyx:634\u001b[39m, in \u001b[36m_pydevd_bundle.pydevd_cython.PyDBFrame.trace_dispatch\u001b[39m\u001b[34m()\u001b[39m\n",
      "\u001b[36mFile \u001b[39m\u001b[32m_pydevd_bundle\\\\pydevd_cython.pyx:1112\u001b[39m, in \u001b[36m_pydevd_bundle.pydevd_cython.PyDBFrame.trace_dispatch\u001b[39m\u001b[34m()\u001b[39m\n",
      "\u001b[36mFile \u001b[39m\u001b[32m_pydevd_bundle\\\\pydevd_cython.pyx:1090\u001b[39m, in \u001b[36m_pydevd_bundle.pydevd_cython.PyDBFrame.trace_dispatch\u001b[39m\u001b[34m()\u001b[39m\n",
      "\u001b[36mFile \u001b[39m\u001b[32m_pydevd_bundle\\\\pydevd_cython.pyx:494\u001b[39m, in \u001b[36m_pydevd_bundle.pydevd_cython.PyDBFrame.do_wait_suspend\u001b[39m\u001b[34m()\u001b[39m\n",
      "\u001b[36mFile \u001b[39m\u001b[32m/usr/local/lib/python3.11/dist-packages/debugpy/_vendored/pydevd/pydevd.py:2188\u001b[39m, in \u001b[36mPyDB.do_wait_suspend\u001b[39m\u001b[34m(self, thread, frame, event, arg, exception_type)\u001b[39m\n\u001b[32m   2185\u001b[39m             from_this_thread.append(frame_custom_thread_id)\n\u001b[32m   2187\u001b[39m     \u001b[38;5;28;01mwith\u001b[39;00m \u001b[38;5;28mself\u001b[39m._threads_suspended_single_notification.notify_thread_suspended(thread_id, thread, stop_reason):\n\u001b[32m-> \u001b[39m\u001b[32m2188\u001b[39m         keep_suspended = \u001b[38;5;28;43mself\u001b[39;49m\u001b[43m.\u001b[49m\u001b[43m_do_wait_suspend\u001b[49m\u001b[43m(\u001b[49m\u001b[43mthread\u001b[49m\u001b[43m,\u001b[49m\u001b[43m \u001b[49m\u001b[43mframe\u001b[49m\u001b[43m,\u001b[49m\u001b[43m \u001b[49m\u001b[43mevent\u001b[49m\u001b[43m,\u001b[49m\u001b[43m \u001b[49m\u001b[43marg\u001b[49m\u001b[43m,\u001b[49m\u001b[43m \u001b[49m\u001b[43mtrace_suspend_type\u001b[49m\u001b[43m,\u001b[49m\u001b[43m \u001b[49m\u001b[43mfrom_this_thread\u001b[49m\u001b[43m,\u001b[49m\u001b[43m \u001b[49m\u001b[43mframes_tracker\u001b[49m\u001b[43m)\u001b[49m\n\u001b[32m   2190\u001b[39m frames_list = \u001b[38;5;28;01mNone\u001b[39;00m\n\u001b[32m   2192\u001b[39m \u001b[38;5;28;01mif\u001b[39;00m keep_suspended:\n\u001b[32m   2193\u001b[39m     \u001b[38;5;66;03m# This means that we should pause again after a set next statement.\u001b[39;00m\n",
      "\u001b[36mFile \u001b[39m\u001b[32m/usr/local/lib/python3.11/dist-packages/debugpy/_vendored/pydevd/pydevd.py:2257\u001b[39m, in \u001b[36mPyDB._do_wait_suspend\u001b[39m\u001b[34m(self, thread, frame, event, arg, trace_suspend_type, from_this_thread, frames_tracker)\u001b[39m\n\u001b[32m   2254\u001b[39m                 queue.put(internal_cmd)\n\u001b[32m   2255\u001b[39m                 wait_timeout = TIMEOUT_FAST\n\u001b[32m-> \u001b[39m\u001b[32m2257\u001b[39m         \u001b[43mnotify_event\u001b[49m\u001b[43m.\u001b[49m\u001b[43mwait\u001b[49m\u001b[43m(\u001b[49m\u001b[43mwait_timeout\u001b[49m\u001b[43m)\u001b[49m\n\u001b[32m   2258\u001b[39m         notify_event.clear()\n\u001b[32m   2260\u001b[39m \u001b[38;5;28;01mfinally\u001b[39;00m:\n",
      "\u001b[36mFile \u001b[39m\u001b[32m/usr/lib/python3.11/threading.py:629\u001b[39m, in \u001b[36mEvent.wait\u001b[39m\u001b[34m(self, timeout)\u001b[39m\n\u001b[32m    627\u001b[39m signaled = \u001b[38;5;28mself\u001b[39m._flag\n\u001b[32m    628\u001b[39m \u001b[38;5;28;01mif\u001b[39;00m \u001b[38;5;129;01mnot\u001b[39;00m signaled:\n\u001b[32m--> \u001b[39m\u001b[32m629\u001b[39m     signaled = \u001b[38;5;28;43mself\u001b[39;49m\u001b[43m.\u001b[49m\u001b[43m_cond\u001b[49m\u001b[43m.\u001b[49m\u001b[43mwait\u001b[49m\u001b[43m(\u001b[49m\u001b[43mtimeout\u001b[49m\u001b[43m)\u001b[49m\n\u001b[32m    630\u001b[39m \u001b[38;5;28;01mreturn\u001b[39;00m signaled\n",
      "\u001b[36mFile \u001b[39m\u001b[32m/usr/lib/python3.11/threading.py:331\u001b[39m, in \u001b[36mCondition.wait\u001b[39m\u001b[34m(self, timeout)\u001b[39m\n\u001b[32m    329\u001b[39m \u001b[38;5;28;01melse\u001b[39;00m:\n\u001b[32m    330\u001b[39m     \u001b[38;5;28;01mif\u001b[39;00m timeout > \u001b[32m0\u001b[39m:\n\u001b[32m--> \u001b[39m\u001b[32m331\u001b[39m         gotit = \u001b[43mwaiter\u001b[49m\u001b[43m.\u001b[49m\u001b[43macquire\u001b[49m\u001b[43m(\u001b[49m\u001b[38;5;28;43;01mTrue\u001b[39;49;00m\u001b[43m,\u001b[49m\u001b[43m \u001b[49m\u001b[43mtimeout\u001b[49m\u001b[43m)\u001b[49m\n\u001b[32m    332\u001b[39m     \u001b[38;5;28;01melse\u001b[39;00m:\n\u001b[32m    333\u001b[39m         gotit = waiter.acquire(\u001b[38;5;28;01mFalse\u001b[39;00m)\n",
      "\u001b[31mKeyboardInterrupt\u001b[39m: "
     ]
    }
   ],
   "source": [
    "from tqdm import tqdm\n",
    "device='cuda:0'    # Evaluation loop\n",
    "total_loss = 0.0\n",
    "total_batches = 0\n",
    "# torch.cuda.empty_cache()\n",
    "# torch.cuda.synchronize()\n",
    "model.eval()\n",
    "# model=model.to(device)\n",
    "with torch.no_grad():\n",
    "    for batch in tqdm(dataloader, desc=\"Evaluating\"):\n",
    "        # 拿到完整的 input_ids, attention_mask, 和已经被 collator 设好 -100 的 labels\n",
    "        input_ids    = batch['input_ids'].to(device)       # [B, T]\n",
    "        attention_mask = batch['attention_mask'].to(device)# [B, T]\n",
    "        labels       = batch['labels'].to(device)          # [B, T], pad 已经是 -100\n",
    "\n",
    "        with torch.no_grad():\n",
    "            outputs = model(input_ids=input_ids,)\n",
    "                            # attention_mask=attention_mask)\n",
    "            logits  = outputs.logits                     # [B, T, V]\n",
    "\n",
    "        # 手动 shift：logits 丢掉最后一位，labels 丢掉第一位\n",
    "        shift_logits = logits[:, :-1, :].contiguous()    # [B, T-1, V]\n",
    "        shift_labels = labels[:, 1:].contiguous()        # [B, T-1]\n",
    "\n",
    "        # 计算交叉熵 loss，ignore_index=-100 会跳过所有 pad 位置\n",
    "        loss = criterion(\n",
    "            shift_logits.view(-1, shift_logits.size(-1)),  # [(B*(T-1)), V]\n",
    "            shift_labels.view(-1)                          # [(B*(T-1))]\n",
    "        )\n",
    "        print(loss.item)\n",
    "        total_loss   += loss.item()\n",
    "        total_batches+= 1\n",
    "\n",
    "avg_loss = total_loss / total_batches\n",
    "# perplexity = math.exp(avg_loss)"
   ]
  },
  {
   "cell_type": "code",
   "execution_count": null,
   "id": "8f0eb146",
   "metadata": {},
   "outputs": [],
   "source": [
    "del loss\n",
    "torch.cuda.empty_cache()\n",
    "torch.cuda.synchronize()\n"
   ]
  }
 ],
 "metadata": {
  "kernelspec": {
   "display_name": "Python 3",
   "language": "python",
   "name": "python3"
  },
  "language_info": {
   "codemirror_mode": {
    "name": "ipython",
    "version": 3
   },
   "file_extension": ".py",
   "mimetype": "text/x-python",
   "name": "python",
   "nbconvert_exporter": "python",
   "pygments_lexer": "ipython3",
   "version": "3.11.11"
  }
 },
 "nbformat": 4,
 "nbformat_minor": 5
}
