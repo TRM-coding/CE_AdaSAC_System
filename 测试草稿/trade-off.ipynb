{
 "cells": [
  {
   "cell_type": "code",
   "execution_count": 1,
   "metadata": {},
   "outputs": [
    {
     "name": "stdout",
     "output_type": "stream",
     "text": [
      "self_attn <class 'torch.nn.modules.activation.MultiheadAttention'>\n",
      "linear1 <class 'torch.nn.modules.linear.Linear'>\n",
      "dropout <class 'torch.nn.modules.dropout.Dropout'>\n",
      "linear2 <class 'torch.nn.modules.linear.Linear'>\n",
      "norm1 <class 'torch.nn.modules.normalization.LayerNorm'>\n",
      "norm2 <class 'torch.nn.modules.normalization.LayerNorm'>\n",
      "dropout1 <class 'torch.nn.modules.dropout.Dropout'>\n",
      "dropout2 <class 'torch.nn.modules.dropout.Dropout'>\n"
     ]
    }
   ],
   "source": [
    "from torch import nn\n",
    "encod=nn.TransformerEncoderLayer(d_model=512,nhead=8)\n",
    "for name,layer in encod.named_children():\n",
    "    print(name,type(layer))"
   ]
  },
  {
   "cell_type": "code",
   "execution_count": null,
   "metadata": {},
   "outputs": [],
   "source": [
    "class cancha(nn.module):\n",
    "    ...\n",
    "    return\n",
    "\n",
    "class mymodle(nn.module):\n",
    "    self.a=cancha()\n",
    "    self.b=linear()\n",
    "    for ward"
   ]
  }
 ],
 "metadata": {
  "kernelspec": {
   "display_name": "pytorch",
   "language": "python",
   "name": "python3"
  },
  "language_info": {
   "codemirror_mode": {
    "name": "ipython",
    "version": 3
   },
   "file_extension": ".py",
   "mimetype": "text/x-python",
   "name": "python",
   "nbconvert_exporter": "python",
   "pygments_lexer": "ipython3",
   "version": "3.10.15"
  }
 },
 "nbformat": 4,
 "nbformat_minor": 2
}
